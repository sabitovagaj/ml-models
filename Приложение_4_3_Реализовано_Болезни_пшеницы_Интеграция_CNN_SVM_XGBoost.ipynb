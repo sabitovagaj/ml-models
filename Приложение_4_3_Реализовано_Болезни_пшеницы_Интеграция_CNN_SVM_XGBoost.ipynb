{
 "cells": [
  {
   "cell_type": "code",
   "execution_count": 2,
   "metadata": {
    "colab": {
     "base_uri": "https://localhost:8080/"
    },
    "executionInfo": {
     "elapsed": 528989,
     "status": "ok",
     "timestamp": 1623172892175,
     "user": {
      "displayName": "Akella Niranjan",
      "photoUrl": "https://lh3.googleusercontent.com/a-/AOh14GiS0hDW7cYrcLRQ7IP_TVEsKTd1iwuhmSjd-QBh=s64",
      "userId": "10548223611542786095"
     },
     "user_tz": -330
    },
    "id": "pBUPYa6yQbVc",
    "outputId": "09742ccf-a326-47c5-919f-7b17e619285d"
   },
   "outputs": [],
   "source": [
    "# # Загрузите файл на основе его идентификатора файла.\n",
    "# file_id = '18DbC6Xj4NP-hLzI14WuMaAEyq482vNfn'\n",
    "\n",
    "# # Скачать набор данных\n",
    "# !gdown https://drive.google.com/uc?id={file_id}\n",
    "\n",
    "# # Разархивируйте загруженный файл\n",
    "# !unzip -q PlantVillage.zip"
   ]
  },
  {
   "cell_type": "code",
   "execution_count": 1,
   "metadata": {
    "executionInfo": {
     "elapsed": 9244,
     "status": "ok",
     "timestamp": 1623177820513,
     "user": {
      "displayName": "Akella Niranjan",
      "photoUrl": "https://lh3.googleusercontent.com/a-/AOh14GiS0hDW7cYrcLRQ7IP_TVEsKTd1iwuhmSjd-QBh=s64",
      "userId": "10548223611542786095"
     },
     "user_tz": -330
    },
    "id": "ckkfHCP7rJhi"
   },
   "outputs": [],
   "source": [
    "from tensorflow.keras.models import Sequential, Model\n",
    "from tensorflow.keras.layers import Conv2D,Activation,LeakyReLU,BatchNormalization,MaxPooling2D,Flatten,Dense,Dropout\n",
    "from tensorflow.keras.optimizers import Adam\n",
    "from tensorflow.keras import backend as K\n",
    "\n",
    "\n",
    "from tensorflow.keras.preprocessing import image\n",
    "from tensorflow.keras.preprocessing.image import ImageDataGenerator,img_to_array\n",
    "import xgboost as xgb\n",
    "import matplotlib.pyplot as plt\n",
    "import pandas as pd\n",
    "import numpy as np\n"
   ]
  },
  {
   "cell_type": "code",
   "execution_count": 2,
   "metadata": {
    "executionInfo": {
     "elapsed": 654,
     "status": "ok",
     "timestamp": 1623177821157,
     "user": {
      "displayName": "Akella Niranjan",
      "photoUrl": "https://lh3.googleusercontent.com/a-/AOh14GiS0hDW7cYrcLRQ7IP_TVEsKTd1iwuhmSjd-QBh=s64",
      "userId": "10548223611542786095"
     },
     "user_tz": -330
    },
    "id": "0Zqy61__Rn5L"
   },
   "outputs": [],
   "source": [
    "import pickle\n",
    "import cv2\n",
    "import os\n",
    "from os import listdir\n",
    "from sklearn.preprocessing import LabelBinarizer,MultiLabelBinarizer\n",
    "from sklearn.model_selection import train_test_split\n"
   ]
  },
  {
   "cell_type": "code",
   "execution_count": 3,
   "metadata": {},
   "outputs": [
    {
     "data": {
      "text/plain": [
       "['train', 'val']"
      ]
     },
     "execution_count": 3,
     "metadata": {},
     "output_type": "execute_result"
    }
   ],
   "source": [
    "root_dir = r'G:/A_DATASET_PLANT_VILLAGE_full/Dataset_WHEAT/Dataset_Disease_Wheat'\n",
    "\n",
    "os.chdir(root_dir)\n",
    "listdir()"
   ]
  },
  {
   "cell_type": "code",
   "execution_count": 4,
   "metadata": {
    "executionInfo": {
     "elapsed": 371,
     "status": "ok",
     "timestamp": 1623177823254,
     "user": {
      "displayName": "Akella Niranjan",
      "photoUrl": "https://lh3.googleusercontent.com/a-/AOh14GiS0hDW7cYrcLRQ7IP_TVEsKTd1iwuhmSjd-QBh=s64",
      "userId": "10548223611542786095"
     },
     "user_tz": -330
    },
    "id": "GZ93_IycTZPa"
   },
   "outputs": [],
   "source": [
    "# Размер измененного изображения\n",
    "DEFAULT_IMAGE_SIZE = tuple((256, 256))\n",
    "\n",
    "# Количество изображений, используемых для обучения модели\n",
    "N_IMAGES = 100\n",
    "\n",
    "data_dir = os.path.join(root_dir,'train')\n",
    "\n",
    "\"\"\"Мы используем функцию «convert_image_to_array», чтобы изменить размер изображения до размера «DEFAULT_IMAGE_SIZE», который мы определили выше.\"\"\"\n",
    "\n",
    "def convert_image_to_array(image_dir):\n",
    "    try:\n",
    "        image = cv2.imread(image_dir)\n",
    "        if image is not None:\n",
    "            image = cv2.resize(image, DEFAULT_IMAGE_SIZE)   \n",
    "            return img_to_array(image)\n",
    "        else:\n",
    "            return np.array([])\n",
    "    except Exception as e:\n",
    "        print(f\"Error : {e}\")\n",
    "        return None"
   ]
  },
  {
   "cell_type": "code",
   "execution_count": 5,
   "metadata": {
    "colab": {
     "base_uri": "https://localhost:8080/"
    },
    "executionInfo": {
     "elapsed": 11,
     "status": "ok",
     "timestamp": 1623177825147,
     "user": {
      "displayName": "Akella Niranjan",
      "photoUrl": "https://lh3.googleusercontent.com/a-/AOh14GiS0hDW7cYrcLRQ7IP_TVEsKTd1iwuhmSjd-QBh=s64",
      "userId": "10548223611542786095"
     },
     "user_tz": -330
    },
    "id": "QIXPhJmoTvyv",
    "outputId": "ba34dd43-b38c-4d19-dddc-40a942cc26e5"
   },
   "outputs": [
    {
     "name": "stdout",
     "output_type": "stream",
     "text": [
      "Load images from all classes ...\n",
      "3\n"
     ]
    }
   ],
   "source": [
    "print(\"Load images from all classes ...\")\n",
    "plant_disease_folder_list = listdir(data_dir)\n",
    "print(len(plant_disease_folder_list))"
   ]
  },
  {
   "cell_type": "markdown",
   "metadata": {},
   "source": [
    "# Загрузка данных обучения и проверки"
   ]
  },
  {
   "cell_type": "code",
   "execution_count": 6,
   "metadata": {
    "colab": {
     "base_uri": "https://localhost:8080/"
    },
    "executionInfo": {
     "elapsed": 10954,
     "status": "ok",
     "timestamp": 1623177838050,
     "user": {
      "displayName": "Akella Niranjan",
      "photoUrl": "https://lh3.googleusercontent.com/a-/AOh14GiS0hDW7cYrcLRQ7IP_TVEsKTd1iwuhmSjd-QBh=s64",
      "userId": "10548223611542786095"
     },
     "user_tz": -330
    },
    "id": "VgUTu7ZFTjaD",
    "outputId": "9fc82226-e80e-4e72-f852-86fab68e327e"
   },
   "outputs": [
    {
     "name": "stdout",
     "output_type": "stream",
     "text": [
      "Loding Image Data ...\n",
      "Processing  Brown_rust ...\n",
      "Processing  Healthy ...\n",
      "Processing  Yellow_rust ...\n",
      "Processing  Brown_rust ...\n",
      "Processing  Healthy ...\n",
      "Processing  Yellow_rust ...\n",
      "Все изображения успешно загружены!!\n"
     ]
    }
   ],
   "source": [
    "image_list, label_list = [], []\n",
    "\n",
    "try:\n",
    "    print(\"Loding Image Data ...\")\n",
    "    for s in listdir():\n",
    "        plant_disease_folder_list = listdir(s)\n",
    "\n",
    "        for plant_disease_folder in plant_disease_folder_list:\n",
    "            print(f\"Processing  {plant_disease_folder} ...\")\n",
    "            plant_disease_image_list = listdir(f\"{data_dir}/{plant_disease_folder}/\")\n",
    "\n",
    "            for image in plant_disease_image_list[:N_IMAGES]:\n",
    "                image_directory = f\"{data_dir}/{plant_disease_folder}/{image}\"\n",
    "                if image_directory.endswith(\".jpg\")==True or image_directory.endswith(\".JPG\")==True:\n",
    "                    image_list.append(convert_image_to_array(image_directory))\n",
    "                    label_list.append(plant_disease_folder)\n",
    "\n",
    "    print(\"Все изображения успешно загружены!!\")  \n",
    "except Exception as e:\n",
    "    print(f\"Error : {e}\")"
   ]
  },
  {
   "cell_type": "code",
   "execution_count": 7,
   "metadata": {
    "colab": {
     "base_uri": "https://localhost:8080/"
    },
    "executionInfo": {
     "elapsed": 6,
     "status": "ok",
     "timestamp": 1623177838050,
     "user": {
      "displayName": "Akella Niranjan",
      "photoUrl": "https://lh3.googleusercontent.com/a-/AOh14GiS0hDW7cYrcLRQ7IP_TVEsKTd1iwuhmSjd-QBh=s64",
      "userId": "10548223611542786095"
     },
     "user_tz": -330
    },
    "id": "Cu2DGtVGW3r3",
    "outputId": "aebba22f-7a88-4210-88f1-43597cc48156"
   },
   "outputs": [
    {
     "name": "stdout",
     "output_type": "stream",
     "text": [
      "600\n"
     ]
    }
   ],
   "source": [
    "print(len(image_list))"
   ]
  },
  {
   "cell_type": "code",
   "execution_count": 8,
   "metadata": {
    "colab": {
     "base_uri": "https://localhost:8080/"
    },
    "executionInfo": {
     "elapsed": 11984,
     "status": "ok",
     "timestamp": 1623177852520,
     "user": {
      "displayName": "Akella Niranjan",
      "photoUrl": "https://lh3.googleusercontent.com/a-/AOh14GiS0hDW7cYrcLRQ7IP_TVEsKTd1iwuhmSjd-QBh=s64",
      "userId": "10548223611542786095"
     },
     "user_tz": -330
    },
    "id": "AgXTKzClTjLY",
    "outputId": "f9aafeb2-f6c1-477f-dbfb-2a0dd52bf1be"
   },
   "outputs": [
    {
     "name": "stdout",
     "output_type": "stream",
     "text": [
      "Total number of images: 600\n"
     ]
    }
   ],
   "source": [
    "# Transform the loaded training image data into numpy array\n",
    "np_image_list = np.array(image_list, dtype=np.float16) / 255.0\n",
    "\n",
    "# Check the number of images loaded for training\n",
    "image_len = len(image_list)\n",
    "print(f\"Total number of images: {image_len}\")"
   ]
  },
  {
   "cell_type": "markdown",
   "metadata": {},
   "source": [
    "# Горячее кодирование меток"
   ]
  },
  {
   "cell_type": "code",
   "execution_count": 9,
   "metadata": {
    "colab": {
     "base_uri": "https://localhost:8080/"
    },
    "executionInfo": {
     "elapsed": 16,
     "status": "ok",
     "timestamp": 1623177852520,
     "user": {
      "displayName": "Akella Niranjan",
      "photoUrl": "https://lh3.googleusercontent.com/a-/AOh14GiS0hDW7cYrcLRQ7IP_TVEsKTd1iwuhmSjd-QBh=s64",
      "userId": "10548223611542786095"
     },
     "user_tz": -330
    },
    "id": "15EUEA6dUjAb",
    "outputId": "60702bd3-a1bb-4940-a20e-7fd42d9cdcd7"
   },
   "outputs": [
    {
     "name": "stdout",
     "output_type": "stream",
     "text": [
      "Total number of classes:  3\n"
     ]
    }
   ],
   "source": [
    "\"\"\"Изучите метки/классы в обучающем наборе данных.\"\"\"\n",
    "\n",
    "label_binarizer = LabelBinarizer()\n",
    "image_labels = label_binarizer.fit_transform(label_list)\n",
    "\n",
    "# pickle.dump(label_binarizer,open('plant_disease_label_transform.pkl', 'wb'))\n",
    "n_classes = len(label_binarizer.classes_)\n",
    "\n",
    "print(\"Total number of classes: \", n_classes)"
   ]
  },
  {
   "cell_type": "code",
   "execution_count": 10,
   "metadata": {
    "executionInfo": {
     "elapsed": 6,
     "status": "ok",
     "timestamp": 1623177852521,
     "user": {
      "displayName": "Akella Niranjan",
      "photoUrl": "https://lh3.googleusercontent.com/a-/AOh14GiS0hDW7cYrcLRQ7IP_TVEsKTd1iwuhmSjd-QBh=s64",
      "userId": "10548223611542786095"
     },
     "user_tz": -330
    },
    "id": "aofjXWyxTjCq"
   },
   "outputs": [],
   "source": [
    "\"\"\"# Дополнить и разделить набор данных\n",
    "Использование `ImageDataGenerator` для увеличения данных путем выполнения различных операций с тренировочными изображениями.\n",
    "\"\"\"\n",
    "\n",
    "augment = ImageDataGenerator(rotation_range=25, width_shift_range=0.1,\n",
    "                             height_shift_range=0.1, shear_range=0.2, \n",
    "                             zoom_range=0.2, horizontal_flip=True, \n",
    "                             fill_mode=\"nearest\")"
   ]
  },
  {
   "cell_type": "code",
   "execution_count": 11,
   "metadata": {
    "colab": {
     "base_uri": "https://localhost:8080/"
    },
    "executionInfo": {
     "elapsed": 625,
     "status": "ok",
     "timestamp": 1623177853140,
     "user": {
      "displayName": "Akella Niranjan",
      "photoUrl": "https://lh3.googleusercontent.com/a-/AOh14GiS0hDW7cYrcLRQ7IP_TVEsKTd1iwuhmSjd-QBh=s64",
      "userId": "10548223611542786095"
     },
     "user_tz": -330
    },
    "id": "lQglwnzGYPA5",
    "outputId": "97d37b61-bf7a-4015-e0ea-5561fe1c54ab"
   },
   "outputs": [
    {
     "name": "stdout",
     "output_type": "stream",
     "text": [
      "Successfully split data into TRAIN & TEST\n"
     ]
    }
   ],
   "source": [
    "\"\"\"Разделение данных на обучающие и тестовые наборы для целей проверки.\"\"\"\n",
    "\n",
    "x_train, x_test, y_train, y_test = train_test_split(np_image_list, image_labels, test_size=0.2, random_state = 42)\n",
    "print('Successfully split data into TRAIN & TEST')"
   ]
  },
  {
   "cell_type": "code",
   "execution_count": 16,
   "metadata": {
    "colab": {
     "base_uri": "https://localhost:8080/"
    },
    "executionInfo": {
     "elapsed": 6045,
     "status": "ok",
     "timestamp": 1623177873583,
     "user": {
      "displayName": "Akella Niranjan",
      "photoUrl": "https://lh3.googleusercontent.com/a-/AOh14GiS0hDW7cYrcLRQ7IP_TVEsKTd1iwuhmSjd-QBh=s64",
      "userId": "10548223611542786095"
     },
     "user_tz": -330
    },
    "id": "a6CiKlFzrIV2",
    "outputId": "e950556d-0b24-419e-a187-72af400f6884"
   },
   "outputs": [],
   "source": [
    "\"\"\"# Построить модель\n",
    "Определение гиперпараметров модели классификации болезней растений.\n",
    "\"\"\"\n",
    "\n",
    "EPOCHS = 10\n",
    "STEPS = 100\n",
    "LR = 0.001\n",
    "BATCH_SIZE = 32\n",
    "WIDTH = 256\n",
    "HEIGHT = 256\n",
    "DEPTH = 3\n"
   ]
  },
  {
   "cell_type": "code",
   "execution_count": 17,
   "metadata": {},
   "outputs": [
    {
     "name": "stdout",
     "output_type": "stream",
     "text": [
      "Model: \"sequential_1\"\n",
      "_________________________________________________________________\n",
      " Layer (type)                Output Shape              Param #   \n",
      "=================================================================\n",
      " conv2d_5 (Conv2D)           (None, 256, 256, 32)      896       \n",
      "                                                                 \n",
      " leaky_re_lu_6 (LeakyReLU)   (None, 256, 256, 32)      0         \n",
      "                                                                 \n",
      " batch_normalization_6 (Bat  (None, 256, 256, 32)      128       \n",
      " chNormalization)                                                \n",
      "                                                                 \n",
      " max_pooling2d_3 (MaxPoolin  (None, 85, 85, 32)        0         \n",
      " g2D)                                                            \n",
      "                                                                 \n",
      " dropout_4 (Dropout)         (None, 85, 85, 32)        0         \n",
      "                                                                 \n",
      " conv2d_6 (Conv2D)           (None, 85, 85, 64)        18496     \n",
      "                                                                 \n",
      " leaky_re_lu_7 (LeakyReLU)   (None, 85, 85, 64)        0         \n",
      "                                                                 \n",
      " batch_normalization_7 (Bat  (None, 85, 85, 64)        256       \n",
      " chNormalization)                                                \n",
      "                                                                 \n",
      " conv2d_7 (Conv2D)           (None, 85, 85, 64)        36928     \n",
      "                                                                 \n",
      " leaky_re_lu_8 (LeakyReLU)   (None, 85, 85, 64)        0         \n",
      "                                                                 \n",
      " batch_normalization_8 (Bat  (None, 85, 85, 64)        256       \n",
      " chNormalization)                                                \n",
      "                                                                 \n",
      " max_pooling2d_4 (MaxPoolin  (None, 42, 42, 64)        0         \n",
      " g2D)                                                            \n",
      "                                                                 \n",
      " dropout_5 (Dropout)         (None, 42, 42, 64)        0         \n",
      "                                                                 \n",
      " conv2d_8 (Conv2D)           (None, 42, 42, 128)       73856     \n",
      "                                                                 \n",
      " leaky_re_lu_9 (LeakyReLU)   (None, 42, 42, 128)       0         \n",
      "                                                                 \n",
      " batch_normalization_9 (Bat  (None, 42, 42, 128)       512       \n",
      " chNormalization)                                                \n",
      "                                                                 \n",
      " conv2d_9 (Conv2D)           (None, 42, 42, 128)       147584    \n",
      "                                                                 \n",
      " leaky_re_lu_10 (LeakyReLU)  (None, 42, 42, 128)       0         \n",
      "                                                                 \n",
      " batch_normalization_10 (Ba  (None, 42, 42, 128)       512       \n",
      " tchNormalization)                                               \n",
      "                                                                 \n",
      " max_pooling2d_5 (MaxPoolin  (None, 21, 21, 128)       0         \n",
      " g2D)                                                            \n",
      "                                                                 \n",
      " dropout_6 (Dropout)         (None, 21, 21, 128)       0         \n",
      "                                                                 \n",
      " flatten_1 (Flatten)         (None, 56448)             0         \n",
      "                                                                 \n",
      " my_dense (Dense)            (None, 1024)              57803776  \n",
      "                                                                 \n",
      " leaky_re_lu_11 (LeakyReLU)  (None, 1024)              0         \n",
      "                                                                 \n",
      " batch_normalization_11 (Ba  (None, 1024)              4096      \n",
      " tchNormalization)                                               \n",
      "                                                                 \n",
      " dropout_7 (Dropout)         (None, 1024)              0         \n",
      "                                                                 \n",
      " dense_1 (Dense)             (None, 3)                 3075      \n",
      "                                                                 \n",
      " activation_1 (Activation)   (None, 3)                 0         \n",
      "                                                                 \n",
      "=================================================================\n",
      "Total params: 58090371 (221.60 MB)\n",
      "Trainable params: 58087491 (221.59 MB)\n",
      "Non-trainable params: 2880 (11.25 KB)\n",
      "_________________________________________________________________\n"
     ]
    }
   ],
   "source": [
    "\"\"\"Создание последовательной модели для построения CNN для многоклассовой классификации\"\"\"\n",
    "\n",
    "model = Sequential()\n",
    "inputShape = (HEIGHT, WIDTH, DEPTH)\n",
    "chanDim = -1\n",
    "\n",
    "if K.image_data_format() == \"channels_first\":\n",
    "    inputShape = (DEPTH, HEIGHT, WIDTH)\n",
    "    chanDim = 1\n",
    "\n",
    "model.add(Conv2D(32, (3, 3), padding=\"same\",input_shape=inputShape))\n",
    "model.add(LeakyReLU(alpha=0.1))\n",
    "model.add(BatchNormalization(axis=chanDim))\n",
    "model.add(MaxPooling2D(pool_size=(3, 3)))\n",
    "model.add(Dropout(0.25))\n",
    "\n",
    "model.add(Conv2D(64, (3, 3), padding=\"same\"))\n",
    "model.add(LeakyReLU(alpha=0.1))\n",
    "model.add(BatchNormalization(axis=chanDim))\n",
    "\n",
    "model.add(Conv2D(64, (3, 3), padding=\"same\"))\n",
    "model.add(LeakyReLU(alpha=0.1))\n",
    "model.add(BatchNormalization(axis=chanDim))\n",
    "model.add(MaxPooling2D(pool_size=(2, 2)))\n",
    "model.add(Dropout(0.25))\n",
    "\n",
    "model.add(Conv2D(128, (3, 3), padding=\"same\"))\n",
    "model.add(LeakyReLU(alpha=0.1))\n",
    "model.add(BatchNormalization(axis=chanDim))\n",
    "\n",
    "model.add(Conv2D(128, (3, 3), padding=\"same\"))\n",
    "model.add(LeakyReLU(alpha=0.1))\n",
    "model.add(BatchNormalization(axis=chanDim))\n",
    "model.add(MaxPooling2D(pool_size=(2, 2)))\n",
    "model.add(Dropout(0.25))\n",
    "\n",
    "model.add(Flatten())\n",
    "\n",
    "model.add(Dense(1024, name = 'my_dense'))\n",
    "model.add(LeakyReLU(alpha=0.1))\n",
    "model.add(BatchNormalization())\n",
    "model.add(Dropout(0.5))\n",
    "\n",
    "model.add(Dense(n_classes))\n",
    "model.add(Activation(\"softmax\"))\n",
    "\n",
    "model.summary()"
   ]
  },
  {
   "cell_type": "markdown",
   "metadata": {},
   "source": [
    "## Извлечение признаков из плотного слоя"
   ]
  },
  {
   "cell_type": "code",
   "execution_count": 18,
   "metadata": {
    "colab": {
     "base_uri": "https://localhost:8080/"
    },
    "executionInfo": {
     "elapsed": 458,
     "status": "ok",
     "timestamp": 1623177880481,
     "user": {
      "displayName": "Akella Niranjan",
      "photoUrl": "https://lh3.googleusercontent.com/a-/AOh14GiS0hDW7cYrcLRQ7IP_TVEsKTd1iwuhmSjd-QBh=s64",
      "userId": "10548223611542786095"
     },
     "user_tz": -330
    },
    "id": "lrPzn71H6Wdp",
    "outputId": "f5c28751-cf41-445c-b834-45aac23d36e4"
   },
   "outputs": [
    {
     "name": "stdout",
     "output_type": "stream",
     "text": [
      "Model: \"model_1\"\n",
      "_________________________________________________________________\n",
      " Layer (type)                Output Shape              Param #   \n",
      "=================================================================\n",
      " conv2d_5_input (InputLayer  [(None, 256, 256, 3)]     0         \n",
      " )                                                               \n",
      "                                                                 \n",
      " conv2d_5 (Conv2D)           (None, 256, 256, 32)      896       \n",
      "                                                                 \n",
      " leaky_re_lu_6 (LeakyReLU)   (None, 256, 256, 32)      0         \n",
      "                                                                 \n",
      " batch_normalization_6 (Bat  (None, 256, 256, 32)      128       \n",
      " chNormalization)                                                \n",
      "                                                                 \n",
      " max_pooling2d_3 (MaxPoolin  (None, 85, 85, 32)        0         \n",
      " g2D)                                                            \n",
      "                                                                 \n",
      " dropout_4 (Dropout)         (None, 85, 85, 32)        0         \n",
      "                                                                 \n",
      " conv2d_6 (Conv2D)           (None, 85, 85, 64)        18496     \n",
      "                                                                 \n",
      " leaky_re_lu_7 (LeakyReLU)   (None, 85, 85, 64)        0         \n",
      "                                                                 \n",
      " batch_normalization_7 (Bat  (None, 85, 85, 64)        256       \n",
      " chNormalization)                                                \n",
      "                                                                 \n",
      " conv2d_7 (Conv2D)           (None, 85, 85, 64)        36928     \n",
      "                                                                 \n",
      " leaky_re_lu_8 (LeakyReLU)   (None, 85, 85, 64)        0         \n",
      "                                                                 \n",
      " batch_normalization_8 (Bat  (None, 85, 85, 64)        256       \n",
      " chNormalization)                                                \n",
      "                                                                 \n",
      " max_pooling2d_4 (MaxPoolin  (None, 42, 42, 64)        0         \n",
      " g2D)                                                            \n",
      "                                                                 \n",
      " dropout_5 (Dropout)         (None, 42, 42, 64)        0         \n",
      "                                                                 \n",
      " conv2d_8 (Conv2D)           (None, 42, 42, 128)       73856     \n",
      "                                                                 \n",
      " leaky_re_lu_9 (LeakyReLU)   (None, 42, 42, 128)       0         \n",
      "                                                                 \n",
      " batch_normalization_9 (Bat  (None, 42, 42, 128)       512       \n",
      " chNormalization)                                                \n",
      "                                                                 \n",
      " conv2d_9 (Conv2D)           (None, 42, 42, 128)       147584    \n",
      "                                                                 \n",
      " leaky_re_lu_10 (LeakyReLU)  (None, 42, 42, 128)       0         \n",
      "                                                                 \n",
      " batch_normalization_10 (Ba  (None, 42, 42, 128)       512       \n",
      " tchNormalization)                                               \n",
      "                                                                 \n",
      " max_pooling2d_5 (MaxPoolin  (None, 21, 21, 128)       0         \n",
      " g2D)                                                            \n",
      "                                                                 \n",
      " dropout_6 (Dropout)         (None, 21, 21, 128)       0         \n",
      "                                                                 \n",
      " flatten_1 (Flatten)         (None, 56448)             0         \n",
      "                                                                 \n",
      " my_dense (Dense)            (None, 1024)              57803776  \n",
      "                                                                 \n",
      "=================================================================\n",
      "Total params: 58083200 (221.57 MB)\n",
      "Trainable params: 58082368 (221.57 MB)\n",
      "Non-trainable params: 832 (3.25 KB)\n",
      "_________________________________________________________________\n"
     ]
    }
   ],
   "source": [
    "layer_name = 'my_dense'\n",
    "intermediate_layer_model = Model(inputs=model.input,outputs=model.get_layer(layer_name).output) \n",
    "intermediate_layer_model.summary()"
   ]
  },
  {
   "cell_type": "code",
   "execution_count": 23,
   "metadata": {},
   "outputs": [],
   "source": [
    "import tensorflow as tf"
   ]
  },
  {
   "cell_type": "code",
   "execution_count": 26,
   "metadata": {
    "colab": {
     "base_uri": "https://localhost:8080/"
    },
    "executionInfo": {
     "elapsed": 826220,
     "status": "ok",
     "timestamp": 1623178709653,
     "user": {
      "displayName": "Akella Niranjan",
      "photoUrl": "https://lh3.googleusercontent.com/a-/AOh14GiS0hDW7cYrcLRQ7IP_TVEsKTd1iwuhmSjd-QBh=s64",
      "userId": "10548223611542786095"
     },
     "user_tz": -330
    },
    "id": "5FGRh6ojt96j",
    "outputId": "4cfa34e8-8760-4cca-e196-f02394234286"
   },
   "outputs": [
    {
     "name": "stdout",
     "output_type": "stream",
     "text": [
      "Training CNN...\n",
      "Epoch 1/20\n",
      "15/15 [==============================] - 27s 2s/step - loss: 0.7055 - accuracy: 0.6000 - val_loss: 0.7073 - val_accuracy: 0.3333\n",
      "Epoch 2/20\n",
      "15/15 [==============================] - 26s 2s/step - loss: 0.5279 - accuracy: 0.7521 - val_loss: 0.8365 - val_accuracy: 0.3333\n",
      "Epoch 3/20\n",
      "15/15 [==============================] - 26s 2s/step - loss: 0.4226 - accuracy: 0.8542 - val_loss: 1.0535 - val_accuracy: 0.3333\n",
      "Epoch 4/20\n",
      "15/15 [==============================] - 26s 2s/step - loss: 0.3875 - accuracy: 0.8729 - val_loss: 1.2794 - val_accuracy: 0.3333\n",
      "Epoch 5/20\n",
      "15/15 [==============================] - 26s 2s/step - loss: 0.3556 - accuracy: 0.8750 - val_loss: 1.5117 - val_accuracy: 0.3333\n",
      "Epoch 6/20\n",
      "15/15 [==============================] - 26s 2s/step - loss: 0.3360 - accuracy: 0.8896 - val_loss: 1.7430 - val_accuracy: 0.3333\n",
      "Epoch 7/20\n",
      "15/15 [==============================] - 26s 2s/step - loss: 0.2909 - accuracy: 0.9042 - val_loss: 1.9034 - val_accuracy: 0.3333\n",
      "Epoch 8/20\n",
      "15/15 [==============================] - 26s 2s/step - loss: 0.3029 - accuracy: 0.9125 - val_loss: 2.1090 - val_accuracy: 0.3333\n",
      "Epoch 9/20\n",
      "15/15 [==============================] - 26s 2s/step - loss: 0.2987 - accuracy: 0.9021 - val_loss: 2.2937 - val_accuracy: 0.3333\n",
      "Epoch 10/20\n",
      "15/15 [==============================] - 26s 2s/step - loss: 0.2684 - accuracy: 0.9167 - val_loss: 2.4520 - val_accuracy: 0.3333\n",
      "Epoch 11/20\n",
      "15/15 [==============================] - 26s 2s/step - loss: 0.2464 - accuracy: 0.9333 - val_loss: 2.6041 - val_accuracy: 0.3333\n",
      "Epoch 12/20\n",
      "15/15 [==============================] - 26s 2s/step - loss: 0.2548 - accuracy: 0.9167 - val_loss: 2.7524 - val_accuracy: 0.3333\n",
      "Epoch 13/20\n",
      "15/15 [==============================] - 26s 2s/step - loss: 0.2330 - accuracy: 0.9354 - val_loss: 2.8747 - val_accuracy: 0.3333\n",
      "Epoch 14/20\n",
      "15/15 [==============================] - 26s 2s/step - loss: 0.2287 - accuracy: 0.9354 - val_loss: 2.9348 - val_accuracy: 0.3333\n",
      "Epoch 15/20\n",
      "15/15 [==============================] - 26s 2s/step - loss: 0.2301 - accuracy: 0.9312 - val_loss: 3.0934 - val_accuracy: 0.3333\n",
      "Epoch 16/20\n",
      "15/15 [==============================] - 26s 2s/step - loss: 0.2070 - accuracy: 0.9271 - val_loss: 3.1673 - val_accuracy: 0.3333\n",
      "Epoch 17/20\n",
      "15/15 [==============================] - 26s 2s/step - loss: 0.2577 - accuracy: 0.9187 - val_loss: 3.1963 - val_accuracy: 0.3333\n",
      "Epoch 18/20\n",
      "15/15 [==============================] - 26s 2s/step - loss: 0.2060 - accuracy: 0.9438 - val_loss: 3.2945 - val_accuracy: 0.3333\n",
      "Epoch 19/20\n",
      "15/15 [==============================] - 26s 2s/step - loss: 0.1981 - accuracy: 0.9438 - val_loss: 3.3085 - val_accuracy: 0.3333\n",
      "Epoch 20/20\n",
      "15/15 [==============================] - 26s 2s/step - loss: 0.2031 - accuracy: 0.9354 - val_loss: 3.3012 - val_accuracy: 0.3333\n",
      "4/4 [==============================] - 1s 309ms/step - loss: 3.3012 - accuracy: 0.3333\n",
      "Test Accuracy: 33.33333432674408\n"
     ]
    }
   ],
   "source": [
    "\"\"\"# Модель обучения\n",
    "Мы инициализируем оптимизатор Adam с параметрами скорости обучения и затухания.\n",
    "Также выбираем тип потерь и метрики для модели и компилируем ее для обучения.\n",
    "\"\"\"\n",
    "\n",
    "# steps_per_epoch=len(x_train) // BATCH_SIZE,\n",
    "\n",
    "# Иициализация оптимизатора\n",
    "learning_rate=0.001\n",
    "decay=0.0001\n",
    "# opt = Adam(learning_rate=0.001, decay=0.0001)\n",
    "opt= tf.keras.optimizers.legacy.SGD(lr=learning_rate, decay=decay)\n",
    "\n",
    "# Компиляция модели\n",
    "model.compile(loss=\"binary_crossentropy\", optimizer=opt, metrics=[\"accuracy\"])\n",
    "\n",
    "# Обучение модели\n",
    "print(\"Training CNN...\")\n",
    "history = model.fit(augment.flow(x_train, y_train, batch_size=BATCH_SIZE),\n",
    "                              validation_data=(x_test, y_test),\n",
    "                              epochs=20, \n",
    "                              verbose=1)\n",
    "        \n",
    "scores = model.evaluate(x_test, y_test)\n",
    "print(f\"Test Accuracy: {scores[1]*100}\")\n"
   ]
  },
  {
   "cell_type": "code",
   "execution_count": 27,
   "metadata": {},
   "outputs": [
    {
     "data": {
      "image/png": "[encoded data removed]",
      "text/plain": [
       "<Figure size 640x480 with 1 Axes>"
      ]
     },
     "metadata": {},
     "output_type": "display_data"
    },
    {
     "data": {
      "image/png": "[encoded data removed]",
      "text/plain": [
       "<Figure size 640x480 with 1 Axes>"
      ]
     },
     "metadata": {},
     "output_type": "display_data"
    },
    {
     "name": "stdout",
     "output_type": "stream",
     "text": [
      "[INFO] Calculating model accuracy\n",
      "4/4 [==============================] - 1s 301ms/step - loss: 3.3012 - accuracy: 0.3333\n",
      "Test Accuracy: 33.33333432674408\n"
     ]
    }
   ],
   "source": [
    "\"\"\"# Оценка модели\n",
    "Сравнение точности и потерь путем построения графика для обучения и проверки.\n",
    "\"\"\"\n",
    "\n",
    "acc = history.history['accuracy']\n",
    "val_acc = history.history['val_accuracy']\n",
    "loss = history.history['loss']\n",
    "val_loss = history.history['val_loss']\n",
    "epochs = range(1, len(acc) + 1)\n",
    "\n",
    "# Точность обучения и проверки\n",
    "plt.plot(epochs, acc, 'b', label='Training accurarcy')\n",
    "plt.plot(epochs, val_acc, 'r', label='Validation accurarcy')\n",
    "plt.title('Training and Validation accurarcy')\n",
    "plt.legend()\n",
    "\n",
    "plt.figure()\n",
    "\n",
    "# Обучение и потеря проверки\n",
    "plt.plot(epochs, loss, 'b', label='Training loss')\n",
    "plt.plot(epochs, val_loss, 'r', label='Validation loss')\n",
    "plt.title('Training and Validation loss')\n",
    "plt.legend()\n",
    "plt.show()\n",
    "\n",
    "\"\"\"Оценка точности модели с использованием метода «оценить»\"\"\"\n",
    "\n",
    "print(\"[INFO] Calculating model accuracy\")\n",
    "scores = model.evaluate(x_test, y_test)\n",
    "print(f\"Test Accuracy: {scores[1]*100}\")"
   ]
  },
  {
   "cell_type": "code",
   "execution_count": 28,
   "metadata": {},
   "outputs": [
    {
     "data": {
      "image/png": "[encoded data removed]",
      "text/plain": [
       "<Figure size 640x480 with 1 Axes>"
      ]
     },
     "metadata": {},
     "output_type": "display_data"
    },
    {
     "data": {
      "image/png": "[encoded data removed]",
      "text/plain": [
       "<Figure size 640x480 with 1 Axes>"
      ]
     },
     "metadata": {},
     "output_type": "display_data"
    },
    {
     "name": "stdout",
     "output_type": "stream",
     "text": [
      "[INFO] Calculating model accuracy\n",
      "4/4 [==============================] - 1s 305ms/step - loss: 3.3012 - accuracy: 0.3333\n",
      "Test Accuracy: 33.33333432674408\n"
     ]
    }
   ],
   "source": [
    "\"\"\"# Оценка модели\n",
    "Сравнение точности и потерь путем построения графика для обучения и проверки.\n",
    "\"\"\"\n",
    "\n",
    "acc = history.history['accuracy']\n",
    "val_acc = history.history['val_accuracy']\n",
    "loss = history.history['loss']\n",
    "val_loss = history.history['val_loss']\n",
    "epochs = range(1, len(acc) + 1)\n",
    "\n",
    "# Точность обучения и проверки\n",
    "plt.plot(epochs, acc, 'b', label='Точность на обучающих данных')\n",
    "plt.plot(epochs, val_acc, 'r', label='Точность на проверочных данных')\n",
    "plt.title('Точность обучения и проверки')\n",
    "plt.legend()\n",
    "\n",
    "plt.figure()\n",
    "\n",
    "# Обучение и потеря проверки\n",
    "plt.plot(epochs, loss, 'b', label='Ошибка при обучении')\n",
    "plt.plot(epochs, val_loss, 'r', label='Ошибка при проверке ')\n",
    "plt.title('Ошибка обучения и проверки')\n",
    "plt.legend()\n",
    "plt.show()\n",
    "\n",
    "\"\"\"Оценка точности модели с использованием метода «оценить»\"\"\"\n",
    "\n",
    "print(\"[INFO] Calculating model accuracy\")\n",
    "scores = model.evaluate(x_test, y_test)\n",
    "print(f\"Test Accuracy: {scores[1]*100}\")"
   ]
  },
  {
   "cell_type": "code",
   "execution_count": 28,
   "metadata": {},
   "outputs": [],
   "source": [
    "#Сохранение модели\n",
    "\n",
    "# model.save('PDD_completemodel')\n",
    "# model.save('PDD_completemodel.h5')\n",
    "#intermediate_layer_model.save('PDD_IntermediateModel')\n",
    "#intermediate_layer_model.save('PDD_IntermediateModel.h5')"
   ]
  },
  {
   "cell_type": "code",
   "execution_count": 29,
   "metadata": {
    "id": "Xr2hsdio8hkz"
   },
   "outputs": [
    {
     "name": "stdout",
     "output_type": "stream",
     "text": [
      "15/15 [==============================] - 5s 331ms/step\n",
      "4/4 [==============================] - 1s 309ms/step\n",
      "(120, 1024)\n"
     ]
    }
   ],
   "source": [
    "x_train_predict = intermediate_layer_model.predict(x_train)\n",
    "# print(x_train_predict.shape)\n",
    "\n",
    "x_test_predict = intermediate_layer_model.predict(x_test)\n",
    "print(x_test_predict.shape)"
   ]
  },
  {
   "cell_type": "markdown",
   "metadata": {},
   "source": [
    "## Машина опорных векторов\n",
    "Интеграция CNN с машиной опорных векторов."
   ]
  },
  {
   "cell_type": "code",
   "execution_count": 30,
   "metadata": {},
   "outputs": [
    {
     "name": "stdout",
     "output_type": "stream",
     "text": [
      "SVM Fit Complete\n"
     ]
    }
   ],
   "source": [
    "from sklearn.svm import SVC\n",
    "\n",
    "svm = SVC(kernel='rbf')\n",
    "\n",
    "svm.fit(x_train_predict,np.argmax(y_train,axis=1))\n",
    "\n",
    "print('SVM Fit Complete')"
   ]
  },
  {
   "cell_type": "code",
   "execution_count": 31,
   "metadata": {},
   "outputs": [
    {
     "data": {
      "text/plain": [
       "0.99375"
      ]
     },
     "execution_count": 31,
     "metadata": {},
     "output_type": "execute_result"
    }
   ],
   "source": [
    "svm.score(x_train_predict,np.argmax(y_train,axis=1))"
   ]
  },
  {
   "cell_type": "code",
   "execution_count": 32,
   "metadata": {},
   "outputs": [
    {
     "data": {
      "text/plain": [
       "0.975"
      ]
     },
     "execution_count": 32,
     "metadata": {},
     "output_type": "execute_result"
    }
   ],
   "source": [
    "svm.score(x_test_predict,np.argmax(y_test,axis=1))\n",
    "\n",
    "#Save the SVM model in pickle file\n",
    "# pickle.dump(svm,open('svms.pkl', 'wb'))"
   ]
  },
  {
   "cell_type": "code",
   "execution_count": 33,
   "metadata": {},
   "outputs": [
    {
     "data": {
      "text/html": [
       "<div>\n",
       "<style scoped>\n",
       "    .dataframe tbody tr th:only-of-type {\n",
       "        vertical-align: middle;\n",
       "    }\n",
       "\n",
       "    .dataframe tbody tr th {\n",
       "        vertical-align: top;\n",
       "    }\n",
       "\n",
       "    .dataframe thead th {\n",
       "        text-align: right;\n",
       "    }\n",
       "</style>\n",
       "<table border=\"1\" class=\"dataframe\">\n",
       "  <thead>\n",
       "    <tr style=\"text-align: right;\">\n",
       "      <th></th>\n",
       "      <th>0</th>\n",
       "    </tr>\n",
       "  </thead>\n",
       "  <tbody>\n",
       "    <tr>\n",
       "      <th>0</th>\n",
       "      <td>1</td>\n",
       "    </tr>\n",
       "    <tr>\n",
       "      <th>1</th>\n",
       "      <td>1</td>\n",
       "    </tr>\n",
       "    <tr>\n",
       "      <th>2</th>\n",
       "      <td>2</td>\n",
       "    </tr>\n",
       "    <tr>\n",
       "      <th>3</th>\n",
       "      <td>0</td>\n",
       "    </tr>\n",
       "    <tr>\n",
       "      <th>4</th>\n",
       "      <td>1</td>\n",
       "    </tr>\n",
       "  </tbody>\n",
       "</table>\n",
       "</div>"
      ],
      "text/plain": [
       "   0\n",
       "0  1\n",
       "1  1\n",
       "2  2\n",
       "3  0\n",
       "4  1"
      ]
     },
     "execution_count": 33,
     "metadata": {},
     "output_type": "execute_result"
    }
   ],
   "source": [
    "Pred_labels = svm.predict(x_test_predict)\n",
    "Pred_labels = pd.DataFrame(Pred_labels,index =None)\n",
    "Pred_labels.head()"
   ]
  },
  {
   "cell_type": "markdown",
   "metadata": {},
   "source": [
    "# Интеграция XGBoost\n",
    "\n",
    "Интеграция модели CNN с алгоритмом Extreme Gradient Boost."
   ]
  },
  {
   "cell_type": "code",
   "execution_count": 34,
   "metadata": {},
   "outputs": [
    {
     "name": "stdout",
     "output_type": "stream",
     "text": [
      "XGBoost Fit Complete\n"
     ]
    }
   ],
   "source": [
    "import xgboost as xgb\n",
    "\n",
    "xb = xgb.XGBClassifier(use_label_encoder=False)\n",
    "\n",
    "xb.fit(x_train_predict,np.argmax(y_train,axis=1))\n",
    "\n",
    "print('XGBoost Fit Complete')\n",
    "\n",
    "#Save XGBoost Model\n",
    "# pickle.dump(xb,open('xgb_model.pkl','wb'))"
   ]
  },
  {
   "cell_type": "code",
   "execution_count": 35,
   "metadata": {},
   "outputs": [
    {
     "data": {
      "text/plain": [
       "1.0"
      ]
     },
     "execution_count": 35,
     "metadata": {},
     "output_type": "execute_result"
    }
   ],
   "source": [
    "xb.score(x_train_predict,np.argmax(y_train,axis=1))"
   ]
  },
  {
   "cell_type": "code",
   "execution_count": 36,
   "metadata": {},
   "outputs": [
    {
     "data": {
      "text/plain": [
       "0.9833333333333333"
      ]
     },
     "execution_count": 36,
     "metadata": {},
     "output_type": "execute_result"
    }
   ],
   "source": [
    "xb.score(x_test_predict,np.argmax(y_test,axis=1))"
   ]
  },
  {
   "cell_type": "code",
   "execution_count": 13,
   "metadata": {},
   "outputs": [],
   "source": [
    "# from tensorflow.keras.models import load_model\n",
    "\n",
    "# ai = load_model('D:\\PDD_Models\\HDF5\\PDD_Intermediatemodel.h5')\n",
    "# xgb_model = xgb.XGBClassifier()\n",
    "# xgb_model.load_model(r'D:\\PDD_Models\\xgb_model.json')\n",
    "\n",
    "# x2 = ai.predict(x_test)\n",
    "# xgb_model.score(x_test_predict,np.argmax(y_test,axis=1))"
   ]
  },
  {
   "cell_type": "markdown",
   "metadata": {},
   "source": [
    "# Дальнейшие улучшения\n",
    "\n",
    "- Методы обработки изображений могут быть реализованы до подхода к входному слою CNN.\n",
    "- Разработка системы PDD [обнаружения болезней растений] в реальном времени с использованием Opencv\n",
    "- Улучшение потерь при проверке\n",
    "- Более широкий спектр дополнений и манипуляций с данными для повышения производительности.\n",
    "- Интеграция CNN с другими архитектурами\n",
    "- Настройка гиперпараметров\n",
    "- Дополнительные наборы данных\n",
    "- Front End разработка [Django, Flask, HTML+CSS+JS, Kotlin, Java, Swift, Flutter]\n",
    "- Разработка кроссплатформенных приложений\n",
    "- Развертывание модели ИИ на компьютерах-компаньонах для приложений в реальном времени."
   ]
  },
  {
   "cell_type": "code",
   "execution_count": null,
   "metadata": {},
   "outputs": [],
   "source": []
  }
 ],
 "metadata": {
  "accelerator": "GPU",
  "colab": {
   "authorship_tag": "ABX9TyMYnTMjyEbKj3D0r2HxMd9C",
   "name": "Plant_Disease_Detection.ipynb",
   "provenance": []
  },
  "interpreter": {
   "hash": "64c1db036c245e91d1c2d164e41aef3f7526caa4d16da4bd1475087c34dc1c7b"
  },
  "kernelspec": {
   "display_name": "Python 3 (ipykernel)",
   "language": "python",
   "name": "python3"
  },
  "language_info": {
   "codemirror_mode": {
    "name": "ipython",
    "version": 3
   },
   "file_extension": ".py",
   "mimetype": "text/x-python",
   "name": "python",
   "nbconvert_exporter": "python",
   "pygments_lexer": "ipython3",
   "version": "3.11.5"
  }
 },
 "nbformat": 4,
 "nbformat_minor": 4
}
