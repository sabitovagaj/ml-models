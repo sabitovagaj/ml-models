{
 "cells": [
  {
   "cell_type": "markdown",
   "metadata": {},
   "source": [
    "###  Создание моделей с помощью ансамблевых методов с разделением данных  в соотношении  80- тренировочные  и 20-тестовые "
   ]
  },
  {
   "cell_type": "code",
   "execution_count": 1,
   "metadata": {},
   "outputs": [],
   "source": [
    "##Импортируем библиотеки \n",
    "import pandas as pd\n",
    "import numpy as np\n",
    "import seaborn as sns\n",
    "import sklearn\n",
    "import matplotlib.pyplot as plt "
   ]
  },
  {
   "cell_type": "code",
   "execution_count": 2,
   "metadata": {},
   "outputs": [],
   "source": [
    "## Загрузка базы данных \n",
    "df = pd.read_csv('cleaned_work.csv',header=0)"
   ]
  },
  {
   "cell_type": "code",
   "execution_count": 3,
   "metadata": {},
   "outputs": [],
   "source": [
    "df.drop(['Year'],axis=1, inplace=True)"
   ]
  },
  {
   "cell_type": "code",
   "execution_count": 4,
   "metadata": {},
   "outputs": [
    {
     "data": {
      "text/html": [
       "<div>\n",
       "<style scoped>\n",
       "    .dataframe tbody tr th:only-of-type {\n",
       "        vertical-align: middle;\n",
       "    }\n",
       "\n",
       "    .dataframe tbody tr th {\n",
       "        vertical-align: top;\n",
       "    }\n",
       "\n",
       "    .dataframe thead th {\n",
       "        text-align: right;\n",
       "    }\n",
       "</style>\n",
       "<table border=\"1\" class=\"dataframe\">\n",
       "  <thead>\n",
       "    <tr style=\"text-align: right;\">\n",
       "      <th></th>\n",
       "      <th>Location</th>\n",
       "      <th>Soil Type</th>\n",
       "      <th>Max_Temperature</th>\n",
       "      <th>Min_Teperature</th>\n",
       "      <th>Rainfall</th>\n",
       "      <th>Humidity</th>\n",
       "      <th>Yield Kg/ha</th>\n",
       "    </tr>\n",
       "  </thead>\n",
       "  <tbody>\n",
       "    <tr>\n",
       "      <th>0</th>\n",
       "      <td>Issyk_Kulsky_peg</td>\n",
       "      <td>Black Soil</td>\n",
       "      <td>31.0</td>\n",
       "      <td>13.0</td>\n",
       "      <td>811.2</td>\n",
       "      <td>68.0</td>\n",
       "      <td>980.0</td>\n",
       "    </tr>\n",
       "    <tr>\n",
       "      <th>1</th>\n",
       "      <td>Issyk_Kulsky_peg</td>\n",
       "      <td>Black Soil</td>\n",
       "      <td>30.5</td>\n",
       "      <td>16.0</td>\n",
       "      <td>811.2</td>\n",
       "      <td>72.0</td>\n",
       "      <td>670.0</td>\n",
       "    </tr>\n",
       "    <tr>\n",
       "      <th>2</th>\n",
       "      <td>Issyk_Kulsky_peg</td>\n",
       "      <td>Black Soil</td>\n",
       "      <td>29.5</td>\n",
       "      <td>14.0</td>\n",
       "      <td>811.2</td>\n",
       "      <td>68.0</td>\n",
       "      <td>730.0</td>\n",
       "    </tr>\n",
       "    <tr>\n",
       "      <th>3</th>\n",
       "      <td>Issyk_Kulsky_peg</td>\n",
       "      <td>Black Soil</td>\n",
       "      <td>30.0</td>\n",
       "      <td>13.0</td>\n",
       "      <td>811.2</td>\n",
       "      <td>54.0</td>\n",
       "      <td>710.0</td>\n",
       "    </tr>\n",
       "    <tr>\n",
       "      <th>4</th>\n",
       "      <td>Issyk_Kulsky_peg</td>\n",
       "      <td>Black Soil</td>\n",
       "      <td>31.0</td>\n",
       "      <td>12.0</td>\n",
       "      <td>811.2</td>\n",
       "      <td>70.0</td>\n",
       "      <td>780.0</td>\n",
       "    </tr>\n",
       "  </tbody>\n",
       "</table>\n",
       "</div>"
      ],
      "text/plain": [
       "           Location   Soil Type  Max_Temperature  Min_Teperature  Rainfall  \\\n",
       "0  Issyk_Kulsky_peg  Black Soil             31.0            13.0     811.2   \n",
       "1  Issyk_Kulsky_peg  Black Soil             30.5            16.0     811.2   \n",
       "2  Issyk_Kulsky_peg  Black Soil             29.5            14.0     811.2   \n",
       "3  Issyk_Kulsky_peg  Black Soil             30.0            13.0     811.2   \n",
       "4  Issyk_Kulsky_peg  Black Soil             31.0            12.0     811.2   \n",
       "\n",
       "   Humidity  Yield Kg/ha  \n",
       "0      68.0        980.0  \n",
       "1      72.0        670.0  \n",
       "2      68.0        730.0  \n",
       "3      54.0        710.0  \n",
       "4      70.0        780.0  "
      ]
     },
     "execution_count": 4,
     "metadata": {},
     "output_type": "execute_result"
    }
   ],
   "source": [
    "df.head()"
   ]
  },
  {
   "cell_type": "code",
   "execution_count": 5,
   "metadata": {},
   "outputs": [
    {
     "data": {
      "text/plain": [
       "(8077, 7)"
      ]
     },
     "execution_count": 5,
     "metadata": {},
     "output_type": "execute_result"
    }
   ],
   "source": [
    "df.shape"
   ]
  },
  {
   "cell_type": "code",
   "execution_count": 6,
   "metadata": {},
   "outputs": [],
   "source": [
    "### Разделение независимых и зависимых функций\n",
    "X = df.iloc[:,:-1]\n",
    "y = df.iloc[:, 6]"
   ]
  },
  {
   "cell_type": "code",
   "execution_count": 7,
   "metadata": {},
   "outputs": [],
   "source": [
    "X = pd.get_dummies(X, drop_first=True)"
   ]
  },
  {
   "cell_type": "code",
   "execution_count": 8,
   "metadata": {},
   "outputs": [
    {
     "data": {
      "text/html": [
       "<div>\n",
       "<style scoped>\n",
       "    .dataframe tbody tr th:only-of-type {\n",
       "        vertical-align: middle;\n",
       "    }\n",
       "\n",
       "    .dataframe tbody tr th {\n",
       "        vertical-align: top;\n",
       "    }\n",
       "\n",
       "    .dataframe thead th {\n",
       "        text-align: right;\n",
       "    }\n",
       "</style>\n",
       "<table border=\"1\" class=\"dataframe\">\n",
       "  <thead>\n",
       "    <tr style=\"text-align: right;\">\n",
       "      <th></th>\n",
       "      <th>Max_Temperature</th>\n",
       "      <th>Min_Teperature</th>\n",
       "      <th>Rainfall</th>\n",
       "      <th>Humidity</th>\n",
       "      <th>Location_Issyk_Kulsky_peg</th>\n",
       "      <th>Location_Jety_Ogyz_peg</th>\n",
       "      <th>Location_Tupsky_peg</th>\n",
       "      <th>Soil Type_Light Soil</th>\n",
       "    </tr>\n",
       "  </thead>\n",
       "  <tbody>\n",
       "    <tr>\n",
       "      <th>0</th>\n",
       "      <td>31.0</td>\n",
       "      <td>13.0</td>\n",
       "      <td>811.2</td>\n",
       "      <td>68.0</td>\n",
       "      <td>1</td>\n",
       "      <td>0</td>\n",
       "      <td>0</td>\n",
       "      <td>0</td>\n",
       "    </tr>\n",
       "    <tr>\n",
       "      <th>1</th>\n",
       "      <td>30.5</td>\n",
       "      <td>16.0</td>\n",
       "      <td>811.2</td>\n",
       "      <td>72.0</td>\n",
       "      <td>1</td>\n",
       "      <td>0</td>\n",
       "      <td>0</td>\n",
       "      <td>0</td>\n",
       "    </tr>\n",
       "    <tr>\n",
       "      <th>2</th>\n",
       "      <td>29.5</td>\n",
       "      <td>14.0</td>\n",
       "      <td>811.2</td>\n",
       "      <td>68.0</td>\n",
       "      <td>1</td>\n",
       "      <td>0</td>\n",
       "      <td>0</td>\n",
       "      <td>0</td>\n",
       "    </tr>\n",
       "    <tr>\n",
       "      <th>3</th>\n",
       "      <td>30.0</td>\n",
       "      <td>13.0</td>\n",
       "      <td>811.2</td>\n",
       "      <td>54.0</td>\n",
       "      <td>1</td>\n",
       "      <td>0</td>\n",
       "      <td>0</td>\n",
       "      <td>0</td>\n",
       "    </tr>\n",
       "    <tr>\n",
       "      <th>4</th>\n",
       "      <td>31.0</td>\n",
       "      <td>12.0</td>\n",
       "      <td>811.2</td>\n",
       "      <td>70.0</td>\n",
       "      <td>1</td>\n",
       "      <td>0</td>\n",
       "      <td>0</td>\n",
       "      <td>0</td>\n",
       "    </tr>\n",
       "  </tbody>\n",
       "</table>\n",
       "</div>"
      ],
      "text/plain": [
       "   Max_Temperature  Min_Teperature  Rainfall  Humidity  \\\n",
       "0             31.0            13.0     811.2      68.0   \n",
       "1             30.5            16.0     811.2      72.0   \n",
       "2             29.5            14.0     811.2      68.0   \n",
       "3             30.0            13.0     811.2      54.0   \n",
       "4             31.0            12.0     811.2      70.0   \n",
       "\n",
       "   Location_Issyk_Kulsky_peg  Location_Jety_Ogyz_peg  Location_Tupsky_peg  \\\n",
       "0                          1                       0                    0   \n",
       "1                          1                       0                    0   \n",
       "2                          1                       0                    0   \n",
       "3                          1                       0                    0   \n",
       "4                          1                       0                    0   \n",
       "\n",
       "   Soil Type_Light Soil  \n",
       "0                     0  \n",
       "1                     0  \n",
       "2                     0  \n",
       "3                     0  \n",
       "4                     0  "
      ]
     },
     "execution_count": 8,
     "metadata": {},
     "output_type": "execute_result"
    }
   ],
   "source": [
    "X.head()"
   ]
  },
  {
   "cell_type": "code",
   "execution_count": 9,
   "metadata": {},
   "outputs": [],
   "source": [
    "from sklearn.model_selection import train_test_split\n",
    "X_train, X_test, y_train, y_test = train_test_split(X, y, test_size=0.2, random_state=0)"
   ]
  },
  {
   "cell_type": "code",
   "execution_count": 10,
   "metadata": {},
   "outputs": [
    {
     "name": "stdout",
     "output_type": "stream",
     "text": [
      "(6461, 8)\n",
      "(1616, 8)\n",
      "(6461,)\n",
      "(1616,)\n"
     ]
    }
   ],
   "source": [
    "# Напечатаем количество объектов  обучающего и тестового набора(80-20)\n",
    "print(X_train.shape)\n",
    "print(X_test.shape)\n",
    "print(y_train.shape)\n",
    "print(y_test.shape)"
   ]
  },
  {
   "cell_type": "code",
   "execution_count": 11,
   "metadata": {},
   "outputs": [],
   "source": [
    "from sklearn.preprocessing import StandardScaler\n",
    "sc = StandardScaler()\n",
    "X_train = sc.fit_transform(X_train)\n",
    "X_test = sc.transform(X_test)"
   ]
  },
  {
   "cell_type": "markdown",
   "metadata": {},
   "source": [
    "### Построение регрессионной модели с помощью Случайного леса "
   ]
  },
  {
   "cell_type": "code",
   "execution_count": 12,
   "metadata": {},
   "outputs": [
    {
     "name": "stdout",
     "output_type": "stream",
     "text": [
      "MSE = 494587.13208383846\n",
      "MAE = 487.60996257415917\n",
      "R2 Score = 0.44165313571540477\n"
     ]
    }
   ],
   "source": [
    "from sklearn.ensemble import RandomForestRegressor\n",
    "from sklearn.metrics import mean_squared_error as mse\n",
    "from sklearn.metrics import mean_absolute_error as mae\n",
    "from sklearn.metrics import r2_score\n",
    "RF = RandomForestRegressor()\n",
    "RF.fit(X_train, y_train)\n",
    "pred = RF.predict(X_test)\n",
    "\n",
    "print('MSE =', mse(pred, y_test))\n",
    "print('MAE =', mae(pred, y_test))\n",
    "print('R2 Score =', r2_score(pred, y_test))"
   ]
  },
  {
   "cell_type": "markdown",
   "metadata": {},
   "source": [
    "### Построение регрессионной модели с помощью Ада буст"
   ]
  },
  {
   "cell_type": "code",
   "execution_count": 14,
   "metadata": {},
   "outputs": [
    {
     "name": "stdout",
     "output_type": "stream",
     "text": [
      "MSE = 568873.4794199932\n",
      "MAE = 585.5748633241241\n",
      "R2 Score = 0.15021870601501464\n"
     ]
    }
   ],
   "source": [
    "# Алгоритм AdaBoost (80-20)\n",
    "from sklearn.ensemble import AdaBoostRegressor\n",
    "Adb = AdaBoostRegressor()\n",
    "Adb.fit(X_train, y_train)\n",
    "pred = Adb.predict(X_test)\n",
    "\n",
    "print('MSE =', mse(pred, y_test))\n",
    "print('MAE =', mae(pred, y_test))\n",
    "print('R2 Score =', r2_score(pred, y_test))"
   ]
  },
  {
   "cell_type": "markdown",
   "metadata": {},
   "source": [
    "### Построение регрессионной модели с помощью  Градиентного бустинга"
   ]
  },
  {
   "cell_type": "code",
   "execution_count": 15,
   "metadata": {},
   "outputs": [
    {
     "name": "stdout",
     "output_type": "stream",
     "text": [
      "MSE = 461519.1921319435\n",
      "MAE = 489.7667301176467\n",
      "R2 Score = 0.3388531656585182\n"
     ]
    }
   ],
   "source": [
    "# Градиентный бустинг(80-20)\n",
    "from sklearn.ensemble import GradientBoostingRegressor\n",
    "GB = GradientBoostingRegressor() \n",
    "GB.fit(X_train, y_train) \n",
    "   \n",
    "# Predicting the Test set results \n",
    "y_pred = GB.predict(X_test)\n",
    "\n",
    "\n",
    "print('MSE =', mse(y_pred, y_test))\n",
    "print('MAE =', mae(y_pred, y_test))\n",
    "print('R2 Score =', r2_score(y_pred, y_test))"
   ]
  },
  {
   "cell_type": "code",
   "execution_count": null,
   "metadata": {},
   "outputs": [],
   "source": []
  }
 ],
 "metadata": {
  "kernelspec": {
   "display_name": "Python 3 (ipykernel)",
   "language": "python",
   "name": "python3"
  },
  "language_info": {
   "codemirror_mode": {
    "name": "ipython",
    "version": 3
   },
   "file_extension": ".py",
   "mimetype": "text/x-python",
   "name": "python",
   "nbconvert_exporter": "python",
   "pygments_lexer": "ipython3",
   "version": "3.10.9"
  }
 },
 "nbformat": 4,
 "nbformat_minor": 4
}
